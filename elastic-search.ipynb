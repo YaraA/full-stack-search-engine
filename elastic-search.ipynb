{
 "cells": [
  {
   "cell_type": "markdown",
   "metadata": {},
   "source": [
    "### Imports"
   ]
  },
  {
   "cell_type": "code",
   "execution_count": 60,
   "metadata": {},
   "outputs": [],
   "source": [
    "import json\n",
    "import os\n",
    "from elasticsearch import Elasticsearch\n",
    "from elasticsearch_dsl import Search, Q"
   ]
  },
  {
   "cell_type": "markdown",
   "metadata": {},
   "source": [
    "### Elastic Search Setup"
   ]
  },
  {
   "cell_type": "code",
   "execution_count": 61,
   "metadata": {},
   "outputs": [],
   "source": [
    "def index(article, search_engine, index_name, article_id):\n",
    "    search_engine.index(index = index_name, doc_type = \"article\",id = article_id, body = article)\n",
    "\n",
    "def file_index(file_name):\n",
    "    return int(file_name.split('-')[0])\n",
    "\n",
    "def build_index(root_path, n, search_engine):\n",
    "     for root, dirs, files in os.walk(root_path):\n",
    "         for file in files[:n]:\n",
    "            if file.endswith('.json'):\n",
    "                with open(os.path.join(root, file), 'r') as f:\n",
    "                     article = json.load(f)\n",
    "                     index(article, search_engine, \"scrapped\", file_index(file))\n",
    "\n",
    "\n",
    "\n",
    "es = Elasticsearch()\n",
    "build_index(\"articles\", 500, es)"
   ]
  },
  {
   "cell_type": "markdown",
   "metadata": {},
   "source": [
    "### Print a sample index entry."
   ]
  },
  {
   "cell_type": "code",
   "execution_count": 62,
   "metadata": {},
   "outputs": [
    {
     "name": "stdout",
     "output_type": "stream",
     "text": [
      "{\n",
      "  \"title\": \"Employees of Big French Cleaning Company Win Sexual Harassment Case\",\n",
      "  \"authors\": [\n",
      "    \"Alissa J. Rubin\",\n",
      "    \"Elian Peltier\"\n",
      "  ],\n",
      "  \"url\": \"https://www.nytimes.com/2017/11/10/world/europe/sexual-harassment-france-h-reinier.html\",\n",
      "  \"body\": \"The court concurred that the four women had been sexually harassed by a man who was their \\u201cteam leader\\u201d at H. Reinier, a subsidiary of ONET, one of France\\u2019s largest cleaning companies. The harassment started with uncomfortable kisses and inappropriate touching but became more intrusive.\\n\\n\\u201cHe would come up behind me in the bathroom when I was leaning over to clean and rub himself against me,\\u201d said Karima Emtir, another of the plaintiffs, bursting into tears a few days before the award as she described in an interview the treatment she had endured.\\n\\nThe harassment escalated, the women said, after they supported their co-worker, Rachid Lakhal, a whistle-blower who accused one of his superiors of a kickback scheme and was fired twice \\u2014 once after he had been reinstated. Mr. Lakhal\\u2019s discrimination case against the company was heard along with the women\\u2019s; he also won damages.\\n\\nH. Reinier\\u2019s lawyer, Virginie Monteil, said that the company had not decided whether to appeal but had done an audit and was beginning a training program for salaried employees and managers in \\u201crisk prevention.\\u201d\\n\\nWhen asked why the audit did not mention sexual harassment, Ms. Monteil said the company was dealing with broader \\u201cpsychosocial issues.\\u201d\\n\\nThe case is also noteworthy because Mr. Lakhal had spoken up on behalf of the women and testified for them. He was given the largest monetary award, essentially creating a precedent for rewarding someone who testified in support of those who allege harassment.\\n\\n\\u201cWhat you won is very significant,\\u201d Ms. Baldeck told the women and Mr. Lakhal at a meeting after the decision was released. \\u201cIt sends a strong message to all the women who talked to me, but who were too afraid to file a complaint.\\u201d\\n\\nAdvertisement Continue reading the main story\\n\\nMs. Baldeck said in an interview that she had spoken with six other female employees who suffered similar treatment.\\n\\nMs. Emtir, one of the plaintiffs, said her co-workers did not join the case because they feared reprisals, including losing their jobs, which although poorly paid helped them to make ends meet. One, though, recently changed her mind and filed a complaint, said lawyers involved in the case.\\n\\nThe four women each won 20,000 euros (about $23,000) for sexual harassment and 10,000 euros (about $11,500) for discrimination. Mr. Lakhal, 47, won 100,000 euros ($116,000).\\n\\nNewsletter Sign Up Continue reading the main story Please verify you're not a robot by clicking the box. Invalid email address. Please re-enter. You must select a newsletter to subscribe to. Sign Up You agree to receive occasional updates and special offers for The New York Times's products and services. Thank you for subscribing. An error has occurred. Please try again later. View all New York Times newsletters.\\n\\n\\u201cIt\\u2019s not about the money,\\u201d Mr. Lakhal said. \\u201cWe don\\u2019t care about the money. It\\u2019s about the justice system acknowledging that there was discrimination, there was sexual harassment.\\u201d\\n\\nLike Mr. Lakhal, Ms. Emtir, who is 49, was also fired. Both sought to get their jobs back, but the court did not order them to be reinstated.\\n\\nThe French labor court judges wrote that the measures taken so far by H. Reinier \\u201cto protect the four employees were nonexistent\\u201d and that the preventive measures were \\u201cwholly insufficient.\\u201d Further, the court said, when the women reported the sexual harassment, they were \\u201csystematically sanctioned for it.\\u201d\\n\\nThe company declined for several years even to move the man who was accused of the harassment to a different location. Ms. Monteil, the company\\u2019s lawyer, said that from H. Reinier\\u2019s point of view, it had to \\u201cput everyone on an equal footing.\\u201d\\n\\nThat decision meant that the women had to see their harasser every day when they went to work, fearing always that he would touch them or follow them into a train bathroom, shut the door and attack them sexually.\\n\\nMaud Beckers, the women\\u2019s lawyer, said before the decision was issued that if the company was found to be responsible for the environment of sexual harassment and threats against employees who complained, the company should \\u201cclean house\\u201d and fire those who were accused as well as the directors who allowed the pernicious behavior.\\n\\nAdvertisement Continue reading the main story\\n\\nAs of Friday, the man named as responsible for the harassment in the court decision, Mbarek Bachchikh, was still working for the company, according to Ms. Monteil, the company\\u2019s lawyer.\\n\\nSNCF, France\\u2019s national railroad, continued to use the company for cleaning services even after questions about sexual harassment and criminal activities were raised. A company communications official said on Friday that SNCF \\u201cwelcomed the decision.\\u201d\\n\\nThe official added that because the case involved internal matters of a subsidiary, she would not offer any other comment.\\n\\nAll four women were longtime employees of H. Reinier and had worked cleaning trains at one or more of the company\\u2019s sites in Paris for years. Ms. Emtir was a 17-year veteran of the company when she was fired in 2015. Three of the women are Algerian and one is Moroccan, as is Mr. Lakhal.\\n\\nThe escalation of the sexual advances began in 2012, Ms. Emtir and Ms. Dahmani said in an interview, after Mr. Lakhal told management that a union delegate had required people he hired as cleaners to pay him one to two months salary, about 2,000 euros ($2,200), in exchange for a job contract.\\n\\nAfter Mr. Lakhal\\u2019s complaint, the women said, the delegate tried to get Mr. Lakhal fired by forcing employees to sign a petition saying he was a poor worker and a liar, among other things. When the four women refused to sign the petition because, they said, they knew it was not true, the sexual harassment intensified.\\n\\nThe kickback accusations are the subject of a separate, criminal case along with the sexual harassment charges. Sexual harassment can be adjudicated in both civil and criminal proceedings.\\n\\nWith the court\\u2019s decision in hand, two of the women and Mr. Lakhal went to the Gare du Nord on Friday with their heads held high. Ms. Dahmani smiled at her daughter, who had come with her. \\u201cIt\\u2019s good to walk into the station without being ashamed,\\u201d she said.\",\n",
      "  \"summary\": \"The court concurred that the four women had been sexually harassed by a man who was their \\u201cteam leader\\u201d at H. Reinier, a subsidiary of ONET, one of France\\u2019s largest cleaning companies.H. Reinier\\u2019s lawyer, Virginie Monteil, said that the company had not decided whether to appeal but had done an audit and was beginning a training program for salaried employees and managers in \\u201crisk prevention.\\u201dMs. Emtir, one of the plaintiffs, said her co-workers did not join the case because they feared reprisals, including losing their jobs, which although poorly paid helped them to make ends meet.That decision meant that the women had to see their harasser every day when they went to work, fearing always that he would touch them or follow them into a train bathroom, shut the door and attack them sexually.The escalation of the sexual advances began in 2012, Ms. Emtir and Ms. Dahmani said in an interview, after Mr. Lakhal told management that a union delegate had required people he hired as cleaners to pay him one to two months salary, about 2,000 euros ($2,200), in exchange for a job contract.\"\n",
      "}\n"
     ]
    }
   ],
   "source": [
    "sample_article = es.get(index = \"scrapped\", id = 0)\n",
    "print(json.dumps(sample_article['_source'], indent = 2))"
   ]
  },
  {
   "cell_type": "markdown",
   "metadata": {},
   "source": [
    "## Queries Examples"
   ]
  },
  {
   "cell_type": "markdown",
   "metadata": {},
   "source": [
    "### 1. Search for articles containing a word in their body."
   ]
  },
  {
   "cell_type": "code",
   "execution_count": 63,
   "metadata": {},
   "outputs": [
    {
     "name": "stdout",
     "output_type": "stream",
     "text": [
      "#Hits 10\n",
      "299. Court in Turkey Acquits Military Officers of Trying to Overthrow Government\n",
      "28. In Crimea, Russian Land Grab Feeds Cries of ‘Carpetbaggers!’\n",
      "291. Syrian Refugee Tripped in Hungary Fights Unfounded Accusations of Extremist Ties\n",
      "219. Erdogan’s Formula for Consolidating Clout in Turkey\n",
      "117. Setback for Angela Merkel as Far Right Makes Gains in Germany\n",
      "190. Emmanuel Macron, French Economy Minister, Hints at Presidential Run\n",
      "214. BBC Journalist Turned Away From Flight to U.S. Because She Was Born in Iran\n",
      "295. Bronislaw Komorowski, Poland’s President, Concedes Defeat to Right-Wing Challenger Andrzej Duda\n",
      "186. Hollande’s Romances Turn Into a Political Spectacle in France\n",
      "104. London Attack Near Mosque Investigated as Terrorism\n"
     ]
    }
   ],
   "source": [
    "s = Search(using = es, index = \"scrapped\") \\\n",
    "    .query(\"match\", body = \"supporters\")\n",
    "response = s.execute()\n",
    "\n",
    "print(\"#Hits\", len(response))\n",
    "for hit in response:\n",
    "    print(hit.meta.id + \".\", hit.title)"
   ]
  },
  {
   "cell_type": "markdown",
   "metadata": {},
   "source": [
    "### 2. Search for articles containing a word in their title."
   ]
  },
  {
   "cell_type": "code",
   "execution_count": 64,
   "metadata": {},
   "outputs": [
    {
     "name": "stdout",
     "output_type": "stream",
     "text": [
      "#Hits 1\n",
      "201. Murdoch and Fox News Mocked on Twitter for Claims About Muslims\n"
     ]
    }
   ],
   "source": [
    "s = Search(using = es, index = \"scrapped\") \\\n",
    "    .query(\"match\", title = \"Twitter\")\n",
    "response = s.execute()\n",
    "\n",
    "print(\"#Hits\", len(response))\n",
    "for hit in response:\n",
    "    print(hit.meta.id + \".\", hit.title)"
   ]
  },
  {
   "cell_type": "markdown",
   "metadata": {},
   "source": [
    "### 3. Search for articles written by a specific author."
   ]
  },
  {
   "cell_type": "code",
   "execution_count": 65,
   "metadata": {},
   "outputs": [
    {
     "name": "stdout",
     "output_type": "stream",
     "text": [
      "#Hits 10\n",
      "180. As Terrorists Cross Borders, Europe Sees Anew That Its Intelligence Does Not --by-- ['Adam Nossiter']\n",
      "221. Marine Le Pen’s Anti-Islam Message Gains Influence in France --by-- ['Adam Nossiter']\n",
      "140. In France, the Mood Darkens as a Harsh Reality Sets In --by-- ['Adam Nossiter']\n",
      "205. Brussels Attacks Underscore Vulnerability of an Open European Society --by-- ['Adam Nossiter']\n",
      "228. Some Calais ‘Jungle’ Camp Migrants Get Eviction Reprieve --by-- ['Adam Nossiter']\n",
      "234. Experts Question Whether Salah Abdeslam Will Provide Answers on Attacks --by-- ['Adam Nossiter']\n",
      "31. Le Pen and Macron Clash in Vicious Presidential Debate in France --by-- ['Adam Nossiter']\n",
      "126. François Hollande Cancels Plan to Strip French Citizenship in Terrorism Cases --by-- ['Adam Nossiter']\n",
      "129. French Terrorism Suspects Appeared Anything But --by-- ['Adam Nossiter']\n",
      "190. Emmanuel Macron, French Economy Minister, Hints at Presidential Run --by-- ['Adam Nossiter']\n"
     ]
    }
   ],
   "source": [
    "s = Search(using = es, index = \"scrapped\") \\\n",
    "    .query(\"match\", authors = \"Adam Nossiter\")\n",
    "response = s.execute()\n",
    "\n",
    "print(\"#Hits\", len(response))\n",
    "for hit in response:\n",
    "    print(hit.meta.id + \".\", hit.title, \"--by--\" , hit.authors)"
   ]
  },
  {
   "cell_type": "markdown",
   "metadata": {},
   "source": [
    "### 4. Search for a fuzzy query."
   ]
  },
  {
   "cell_type": "code",
   "execution_count": 66,
   "metadata": {},
   "outputs": [
    {
     "name": "stdout",
     "output_type": "stream",
     "text": [
      "Fuzzy Query\n",
      "#Hits 10\n",
      "291. Syrian Refugee Tripped in Hungary Fights Unfounded Accusations of Extremist Ties\n",
      "299. Court in Turkey Acquits Military Officers of Trying to Overthrow Government\n",
      "28. In Crimea, Russian Land Grab Feeds Cries of ‘Carpetbaggers!’\n",
      "219. Erdogan’s Formula for Consolidating Clout in Turkey\n",
      "117. Setback for Angela Merkel as Far Right Makes Gains in Germany\n",
      "190. Emmanuel Macron, French Economy Minister, Hints at Presidential Run\n",
      "121. Right-Wing Extremist Convicted of Murdering Jo Cox, a U.K. Lawmaker\n",
      "214. BBC Journalist Turned Away From Flight to U.S. Because She Was Born in Iran\n",
      "295. Bronislaw Komorowski, Poland’s President, Concedes Defeat to Right-Wing Challenger Andrzej Duda\n",
      "186. Hollande’s Romances Turn Into a Political Spectacle in France\n",
      "\n",
      "Match Query\n",
      "#Hits 0\n"
     ]
    }
   ],
   "source": [
    "s = Search(using = es, index = \"scrapped\") \\\n",
    "    .query(\"fuzzy\", body = \"sapporters\")\n",
    "response = s.execute()\n",
    "\n",
    "print(\"Fuzzy Query\")\n",
    "print(\"#Hits\", len(response))\n",
    "for hit in response:\n",
    "    print(hit.meta.id + \".\", hit.title)\n",
    "    \n",
    "#Compare it with a normal match query.\n",
    "s = Search(using = es, index = \"nyt\") \\\n",
    "    .query(\"match\", body = \"sapporters\")\n",
    "response = s.execute()\n",
    "\n",
    "print(\"\\nMatch Query\")\n",
    "print(\"#Hits\", len(response))\n",
    "for hit in response:\n",
    "    print(hit.meta.id + \".\", hit.title)"
   ]
  },
  {
   "cell_type": "markdown",
   "metadata": {},
   "source": [
    "### 5. Search for a query on two fields."
   ]
  },
  {
   "cell_type": "code",
   "execution_count": 67,
   "metadata": {},
   "outputs": [
    {
     "name": "stdout",
     "output_type": "stream",
     "text": [
      "#Hits 1\n",
      "190. Emmanuel Macron, French Economy Minister, Hints at Presidential Run --by-- ['Adam Nossiter']\n"
     ]
    }
   ],
   "source": [
    "s = Search(using = es, index = \"scrapped\") \\\n",
    "    .query(\"match\", body = \"supporters\") \\\n",
    "    .query(\"match\", authors = \"Adam Nossiter\")\n",
    "response = s.execute()\n",
    "\n",
    "print(\"#Hits\", len(response))\n",
    "for hit in response:\n",
    "    print(hit.meta.id + \".\", hit.title, \"--by--\" , hit.authors)"
   ]
  }
 ],
 "metadata": {
  "kernelspec": {
   "display_name": "Python 3",
   "language": "python",
   "name": "python3"
  },
  "language_info": {
   "codemirror_mode": {
    "name": "ipython",
    "version": 3
   },
   "file_extension": ".py",
   "mimetype": "text/x-python",
   "name": "python",
   "nbconvert_exporter": "python",
   "pygments_lexer": "ipython3",
   "version": "3.6.3"
  }
 },
 "nbformat": 4,
 "nbformat_minor": 2
}
