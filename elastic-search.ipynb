{
 "cells": [
  {
   "cell_type": "markdown",
   "metadata": {},
   "source": [
    "### Imports"
   ]
  },
  {
   "cell_type": "code",
   "execution_count": 72,
   "metadata": {},
   "outputs": [],
   "source": [
    "import json\n",
    "import os\n",
    "from elasticsearch import Elasticsearch\n",
    "from elasticsearch_dsl import Search, Q"
   ]
  },
  {
   "cell_type": "markdown",
   "metadata": {},
   "source": [
    "### Elastic Search Setup"
   ]
  },
  {
   "cell_type": "code",
   "execution_count": 73,
   "metadata": {},
   "outputs": [],
   "source": [
    "def index(article, search_engine, index_name, article_id):\n",
    "    search_engine.index(index = index_name, doc_type = \"article\",id = article_id, body = article)\n",
    "\n",
    "def file_index(file_name):\n",
    "    return int(file_name.split('-')[0])\n",
    "\n",
    "def build_index(root_path, n, search_engine):\n",
    "     for root, dirs, files in os.walk(root_path):\n",
    "         for file in files[:n]:\n",
    "            if file.endswith('.json'):\n",
    "                with open(os.path.join(root, file), 'r') as f:\n",
    "                     article = json.load(f)\n",
    "                     index(article, search_engine, \"nyt\", file_index(file))\n",
    "\n",
    "\n",
    "\n",
    "es = Elasticsearch()\n",
    "build_index(\"articles\", 500, es)"
   ]
  },
  {
   "cell_type": "markdown",
   "metadata": {},
   "source": [
    "### 1. Search for articles containing a word in their body."
   ]
  },
  {
   "cell_type": "code",
   "execution_count": 74,
   "metadata": {},
   "outputs": [
    {
     "name": "stdout",
     "output_type": "stream",
     "text": [
      "#Hits 10\n",
      "193. For Marine Le Pen, Migration Is a Ready-Made Issue\n",
      "154. Emmanuel Macron, French Economy Minister, Hints at Presidential Run\n",
      "293. ISIS Claims Responsibility, Calling Paris Attacks ‘First of the Storm’\n",
      "14. Marine Le Pen Leads Far-Right Fight to Make France ‘More French’\n",
      "495. Big Anti-Immigration Rally in Germany Prompts Counterdemonstrations\n",
      "139. Divisive Election in Spain’s Catalonia Gives Win to Separatist Parties\n",
      "245. BBC Journalist Turned Away From Flight to U.S. Because She Was Born in Iran\n",
      "454. German Who Posed as Hitler Returns to Position in Anti-Immigrant Group Pegida\n",
      "441. Anti-Immigration Rallies in Germany Defy Calls to Desist\n",
      "138. Martin Schulz, Merkel Rival, Wins His Party’s Nomination With 100 Percent of Vote\n"
     ]
    }
   ],
   "source": [
    "s = Search(using = es, index = \"nyt\") \\\n",
    "    .query(\"match\", body = \"supporters\")\n",
    "response = s.execute()\n",
    "\n",
    "print(\"#Hits\", len(response))\n",
    "for hit in response:\n",
    "    print(hit.meta.id + \".\", hit.title)"
   ]
  },
  {
   "cell_type": "markdown",
   "metadata": {},
   "source": [
    "### 2. Search for articles containing a word in their title."
   ]
  },
  {
   "cell_type": "code",
   "execution_count": 75,
   "metadata": {},
   "outputs": [
    {
     "name": "stdout",
     "output_type": "stream",
     "text": [
      "#Hits 4\n",
      "13. Marine Le Pen Loses Parliamentary Immunity Over Twitter Case\n",
      "200. ‘Brexit’ Debate Even Divides Cats (and Dogs) on Twitter\n",
      "220. Twitter Cats to the Rescue in Brussels Lockdown\n",
      "505. Murdoch and Fox News Mocked on Twitter for Claims About Muslims\n"
     ]
    }
   ],
   "source": [
    "s = Search(using = es, index = \"nyt\") \\\n",
    "    .query(\"match\", title = \"Twitter\")\n",
    "response = s.execute()\n",
    "\n",
    "print(\"#Hits\", len(response))\n",
    "for hit in response:\n",
    "    print(hit.meta.id + \".\", hit.title)"
   ]
  },
  {
   "cell_type": "markdown",
   "metadata": {},
   "source": [
    "### 3. Search for articles written by a specific author."
   ]
  },
  {
   "cell_type": "code",
   "execution_count": 76,
   "metadata": {},
   "outputs": [
    {
     "name": "stdout",
     "output_type": "stream",
     "text": [
      "#Hits 10\n",
      "70. François Fillon Blames ‘Media Lynching’ for His Campaign Crisis --by-- ['Adam Nossiter']\n",
      "12. Le Pen and Macron Clash in Vicious Presidential Debate in France --by-- ['Adam Nossiter']\n",
      "142. Emmanuel Macron, French Economy Minister, Hints at Presidential Run --by-- ['Adam Nossiter']\n",
      "55. François Fillon, French Presidential Candidate, Faces Formal Investigation --by-- ['Adam Nossiter']\n",
      "106. Nicolas Sarkozy Mounts What He Hopes Is a Comeback in France --by-- ['Adam Nossiter']\n",
      "210. A Belated Welcome in France Is Drawing Few Migrants --by-- ['Adam Nossiter']\n",
      "1. Marine Le Pen Loses French Parliamentary Immunity Over Tweets --by-- ['Adam Nossiter']\n",
      "13. Marine Le Pen Loses Parliamentary Immunity Over Twitter Case --by-- ['Adam Nossiter']\n",
      "79. A Candidate Rises on Vows to Control Islam and Immigration. This Time in France. --by-- ['Adam Nossiter']\n",
      "123. Emmanuel Macron, Eyeing French Presidency, Resigns as Economy Minister --by-- ['Adam Nossiter']\n"
     ]
    }
   ],
   "source": [
    "s = Search(using = es, index = \"nyt\") \\\n",
    "    .query(\"match\", authors = \"Adam Nossiter\")\n",
    "response = s.execute()\n",
    "\n",
    "print(\"#Hits\", len(response))\n",
    "for hit in response:\n",
    "    print(hit.meta.id + \".\", hit.title, \"--by--\" , hit.authors)"
   ]
  },
  {
   "cell_type": "markdown",
   "metadata": {},
   "source": [
    "### 4. Search for a fuzzy query."
   ]
  },
  {
   "cell_type": "code",
   "execution_count": 77,
   "metadata": {},
   "outputs": [
    {
     "name": "stdout",
     "output_type": "stream",
     "text": [
      "Fuzzy Query\n",
      "#Hits 10\n",
      "193. For Marine Le Pen, Migration Is a Ready-Made Issue\n",
      "154. Emmanuel Macron, French Economy Minister, Hints at Presidential Run\n",
      "293. ISIS Claims Responsibility, Calling Paris Attacks ‘First of the Storm’\n",
      "14. Marine Le Pen Leads Far-Right Fight to Make France ‘More French’\n",
      "495. Big Anti-Immigration Rally in Germany Prompts Counterdemonstrations\n",
      "139. Divisive Election in Spain’s Catalonia Gives Win to Separatist Parties\n",
      "245. BBC Journalist Turned Away From Flight to U.S. Because She Was Born in Iran\n",
      "454. German Who Posed as Hitler Returns to Position in Anti-Immigrant Group Pegida\n",
      "441. Anti-Immigration Rallies in Germany Defy Calls to Desist\n",
      "138. Martin Schulz, Merkel Rival, Wins His Party’s Nomination With 100 Percent of Vote\n",
      "\n",
      "Match Query\n",
      "#Hits 0\n"
     ]
    }
   ],
   "source": [
    "s = Search(using = es, index = \"nyt\") \\\n",
    "    .query(\"fuzzy\", body = \"sapporters\")\n",
    "response = s.execute()\n",
    "\n",
    "print(\"Fuzzy Query\")\n",
    "print(\"#Hits\", len(response))\n",
    "for hit in response:\n",
    "    print(hit.meta.id + \".\", hit.title)\n",
    "    \n",
    "#Compare it with a normal match query.\n",
    "s = Search(using = es, index = \"nyt\") \\\n",
    "    .query(\"match\", body = \"sapporters\")\n",
    "response = s.execute()\n",
    "\n",
    "print(\"\\nMatch Query\")\n",
    "print(\"#Hits\", len(response))\n",
    "for hit in response:\n",
    "    print(hit.meta.id + \".\", hit.title)"
   ]
  },
  {
   "cell_type": "markdown",
   "metadata": {},
   "source": [
    "### 5. Search for a query on two fields."
   ]
  },
  {
   "cell_type": "code",
   "execution_count": 78,
   "metadata": {},
   "outputs": [
    {
     "name": "stdout",
     "output_type": "stream",
     "text": [
      "#Hits 7\n",
      "142. Emmanuel Macron, French Economy Minister, Hints at Presidential Run --by-- ['Adam Nossiter']\n",
      "193. For Marine Le Pen, Migration Is a Ready-Made Issue --by-- ['Adam Nossiter']\n",
      "154. Emmanuel Macron, French Economy Minister, Hints at Presidential Run --by-- ['Adam Nossiter']\n",
      "14. Marine Le Pen Leads Far-Right Fight to Make France ‘More French’ --by-- ['Adam Nossiter']\n",
      "55. François Fillon, French Presidential Candidate, Faces Formal Investigation --by-- ['Adam Nossiter']\n",
      "79. A Candidate Rises on Vows to Control Islam and Immigration. This Time in France. --by-- ['Adam Nossiter']\n",
      "123. Emmanuel Macron, Eyeing French Presidency, Resigns as Economy Minister --by-- ['Adam Nossiter']\n"
     ]
    }
   ],
   "source": [
    "s = Search(using = es, index = \"nyt\") \\\n",
    "    .query(\"match\", body = \"supporters\") \\\n",
    "    .query(\"match\", authors = \"Adam Nossiter\")\n",
    "response = s.execute()\n",
    "\n",
    "print(\"#Hits\", len(response))\n",
    "for hit in response:\n",
    "    print(hit.meta.id + \".\", hit.title, \"--by--\" , hit.authors)"
   ]
  }
 ],
 "metadata": {
  "kernelspec": {
   "display_name": "Python 3",
   "language": "python",
   "name": "python3"
  },
  "language_info": {
   "codemirror_mode": {
    "name": "ipython",
    "version": 3
   },
   "file_extension": ".py",
   "mimetype": "text/x-python",
   "name": "python",
   "nbconvert_exporter": "python",
   "pygments_lexer": "ipython3",
   "version": "3.6.3"
  }
 },
 "nbformat": 4,
 "nbformat_minor": 2
}
