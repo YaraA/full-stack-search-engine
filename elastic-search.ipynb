{
 "cells": [
  {
   "cell_type": "markdown",
   "metadata": {},
   "source": [
    "### Imports"
   ]
  },
  {
   "cell_type": "code",
   "execution_count": 72,
   "metadata": {},
   "outputs": [],
   "source": [
    "import json\n",
    "import os\n",
    "from elasticsearch import Elasticsearch\n",
    "from elasticsearch_dsl import Search, Q"
   ]
  },
  {
   "cell_type": "markdown",
   "metadata": {},
   "source": [
    "### Elastic Search Setup"
   ]
  },
  {
   "cell_type": "code",
   "execution_count": 73,
   "metadata": {},
   "outputs": [],
   "source": [
    "def index(article, search_engine, index_name, article_id):\n",
    "    search_engine.index(index = index_name, doc_type = \"article\",id = article_id, body = article)\n",
    "\n",
    "def file_index(file_name):\n",
    "    return int(file_name.split('-')[0])\n",
    "\n",
    "def build_index(root_path, n, search_engine):\n",
    "     for root, dirs, files in os.walk(root_path):\n",
    "         for file in files[:n]:\n",
    "            if file.endswith('.json'):\n",
    "                with open(os.path.join(root, file), 'r') as f:\n",
    "                     article = json.load(f)\n",
    "                     index(article, search_engine, \"scrapped\", file_index(file))\n",
    "\n",
    "\n",
    "\n",
    "es = Elasticsearch()\n",
    "build_index(\"articles\", 500, es)"
   ]
  },
  {
   "cell_type": "markdown",
   "metadata": {},
   "source": [
    "### Print a sample index entry."
   ]
  },
  {
   "cell_type": "code",
   "execution_count": 74,
   "metadata": {},
   "outputs": [
    {
     "name": "stdout",
     "output_type": "stream",
     "text": [
      "{\n",
      "  \"title\": \"Pope Francis: Mass Is for Lifting Hearts, Not Cellphones\",\n",
      "  \"authors\": [\n",
      "    \"Megan Specia\"\n",
      "  ],\n",
      "  \"url\": \"https://www.nytimes.com/2017/11/08/world/europe/pope-phones-mass.html\",\n",
      "  \"body\": \"Photo\\n\\nPope Francis has a message for Catholics: Put down your smartphone during Mass.\\n\\nDuring a general audience at St. Peter\\u2019s Square in Vatican City on Wednesday morning, Francis chastised Catholics who use their phones during Mass.\\n\\n\\u201cAt some point, the priest during the Mass says, \\u2018Lift up your hearts,\\u2019\\u201d the pontiff said. \\u201cHe does not say, \\u2018Lift up your cellphones to take pictures.\\u2019\\u201d\\n\\nThe remarks drew applause, particularly after Francis called the use of phones during services a \\u201cvery ugly thing.\\u201d\\n\\nGeneral audiences, held regularly on Wednesdays, usually consist of short teachings and readings. While the rest of Francis\\u2019s message was focused on other matters, he was clear on the use of cellphones at Mass.\\n\\nAdvertisement Continue reading the main story\\n\\n\\u201cIt makes me very sad when I celebrate Mass here in the piazza or in the basilica,\\u201d Francis said, pointing to St. Peter\\u2019s Basilica behind him, \\u201cand I see so many cellphones held up.\\u201d\",\n",
      "  \"summary\": \"During a general audience at St. Peter\\u2019s Square in Vatican City on Wednesday morning, Francis chastised Catholics who use their phones during Mass. The remarks drew applause, particularly after Francis called the use of phones during services a \\u201cvery ugly thing.\\u201d General audiences, held regularly on Wednesdays, usually consist of short teachings and readings. While the rest of Francis\\u2019s message was focused on other matters, he was clear on the use of cellphones at Mass.\"\n",
      "}\n"
     ]
    }
   ],
   "source": [
    "sample_article = es.get(index = \"scrapped\", id = 0)\n",
    "print(json.dumps(sample_article['_source'], indent = 2))"
   ]
  },
  {
   "cell_type": "markdown",
   "metadata": {},
   "source": [
    "## Queries Examples"
   ]
  },
  {
   "cell_type": "markdown",
   "metadata": {},
   "source": [
    "### 1. Search for articles containing a word in their body."
   ]
  },
  {
   "cell_type": "code",
   "execution_count": 75,
   "metadata": {},
   "outputs": [
    {
     "name": "stdout",
     "output_type": "stream",
     "text": [
      "#Hits 10\n",
      "14. Marine Le Pen Leads Far-Right Fight to Make France ‘More French’\n",
      "234. ISIS Claims Responsibility, Calling Paris Attacks ‘First of the Storm’\n",
      "66. Le Pen Calls Parties in France ‘Completely Rotten’ as They Unite to Fend Her Off\n",
      "131. Voices From Europe’s Far Right\n",
      "245. Jeremy Corbyn, Leader of Britain’s Labour Party, Loses No-Confidence Vote\n",
      "70. After French Vote, a Question: How Were the Polls So Right?\n",
      "35. François Fillon, French Presidential Candidate, Vows to Run Despite Inquiry\n",
      "122. With Jeremy Corbyn Elected as New Leader, Britain’s Labour Party Takes a Hard Left Turn\n",
      "133. Emmanuel Macron, French Economy Minister, Hints at Presidential Run\n",
      "45. British Elections Pose Test for Jeremy Corbyn, Labour Party Leader\n"
     ]
    }
   ],
   "source": [
    "s = Search(using = es, index = \"scrapped\") \\\n",
    "    .query(\"match\", body = \"supporters\")\n",
    "response = s.execute()\n",
    "\n",
    "print(\"#Hits\", len(response))\n",
    "for hit in response:\n",
    "    print(hit.meta.id + \".\", hit.title)"
   ]
  },
  {
   "cell_type": "markdown",
   "metadata": {},
   "source": [
    "### 2. Search for articles containing a word in their title."
   ]
  },
  {
   "cell_type": "code",
   "execution_count": 76,
   "metadata": {},
   "outputs": [
    {
     "name": "stdout",
     "output_type": "stream",
     "text": [
      "#Hits 2\n",
      "15. Marine Le Pen Loses Parliamentary Immunity Over Twitter Case\n",
      "41. Parliament Asks Twitter About Russian Meddling in Brexit Vote\n"
     ]
    }
   ],
   "source": [
    "s = Search(using = es, index = \"scrapped\") \\\n",
    "    .query(\"match\", title = \"Twitter\")\n",
    "response = s.execute()\n",
    "\n",
    "print(\"#Hits\", len(response))\n",
    "for hit in response:\n",
    "    print(hit.meta.id + \".\", hit.title)"
   ]
  },
  {
   "cell_type": "markdown",
   "metadata": {},
   "source": [
    "### 3. Search for articles written by a specific author."
   ]
  },
  {
   "cell_type": "code",
   "execution_count": 77,
   "metadata": {},
   "outputs": [
    {
     "name": "stdout",
     "output_type": "stream",
     "text": [
      "#Hits 10\n",
      "106. An Unlikely Contender Rises in France as the Antithesis of Trump --by-- ['Adam Nossiter']\n",
      "15. Marine Le Pen Loses Parliamentary Immunity Over Twitter Case --by-- ['Adam Nossiter']\n",
      "159. In France, the Mood Darkens as a Harsh Reality Sets In --by-- ['Adam Nossiter']\n",
      "175. A New Generation’s Anger Resounds From a Packed Plaza in Paris --by-- ['Adam Nossiter']\n",
      "35. François Fillon, French Presidential Candidate, Vows to Run Despite Inquiry --by-- ['Adam Nossiter']\n",
      "44. Le Pen Loses Luster, Signaling Far Right’s Retreat in France, and Maybe Beyond --by-- ['Adam Nossiter']\n",
      "48. Le Pen’s Inner Circle Fuels Doubt About Bid to ‘Un-Demonize’ Her Party --by-- ['Adam Nossiter']\n",
      "130. Nicolas Sarkozy Mounts What He Hopes Is a Comeback in France --by-- ['Adam Nossiter']\n",
      "14. Marine Le Pen Leads Far-Right Fight to Make France ‘More French’ --by-- ['Adam Nossiter']\n",
      "29. Marine Le Pen May Get a Lift From an Unlikely Source: The Far Left --by-- ['Adam Nossiter']\n"
     ]
    }
   ],
   "source": [
    "s = Search(using = es, index = \"scrapped\") \\\n",
    "    .query(\"match\", authors = \"Adam Nossiter\")\n",
    "response = s.execute()\n",
    "\n",
    "print(\"#Hits\", len(response))\n",
    "for hit in response:\n",
    "    print(hit.meta.id + \".\", hit.title, \"--by--\" , hit.authors)"
   ]
  },
  {
   "cell_type": "markdown",
   "metadata": {},
   "source": [
    "### 4. Search for a fuzzy query."
   ]
  },
  {
   "cell_type": "code",
   "execution_count": 78,
   "metadata": {},
   "outputs": [
    {
     "name": "stdout",
     "output_type": "stream",
     "text": [
      "Fuzzy Query\n",
      "#Hits 10\n",
      "122. With Jeremy Corbyn Elected as New Leader, Britain’s Labour Party Takes a Hard Left Turn\n",
      "106. An Unlikely Contender Rises in France as the Antithesis of Trump\n",
      "14. Marine Le Pen Leads Far-Right Fight to Make France ‘More French’\n",
      "234. ISIS Claims Responsibility, Calling Paris Attacks ‘First of the Storm’\n",
      "66. Le Pen Calls Parties in France ‘Completely Rotten’ as They Unite to Fend Her Off\n",
      "59. Once in the Shadows, Europe’s Neo-Fascists Are Re-emerging\n",
      "131. Voices From Europe’s Far Right\n",
      "245. Jeremy Corbyn, Leader of Britain’s Labour Party, Loses No-Confidence Vote\n",
      "70. After French Vote, a Question: How Were the Polls So Right?\n",
      "35. François Fillon, French Presidential Candidate, Vows to Run Despite Inquiry\n",
      "\n",
      "Match Query\n",
      "#Hits 0\n"
     ]
    }
   ],
   "source": [
    "s = Search(using = es, index = \"scrapped\") \\\n",
    "    .query(\"fuzzy\", body = \"sapporters\")\n",
    "response = s.execute()\n",
    "\n",
    "print(\"Fuzzy Query\")\n",
    "print(\"#Hits\", len(response))\n",
    "for hit in response:\n",
    "    print(hit.meta.id + \".\", hit.title)\n",
    "    \n",
    "#Compare it with a normal match query.\n",
    "s = Search(using = es, index = \"nyt\") \\\n",
    "    .query(\"match\", body = \"sapporters\")\n",
    "response = s.execute()\n",
    "\n",
    "print(\"\\nMatch Query\")\n",
    "print(\"#Hits\", len(response))\n",
    "for hit in response:\n",
    "    print(hit.meta.id + \".\", hit.title)"
   ]
  },
  {
   "cell_type": "markdown",
   "metadata": {},
   "source": [
    "### 5. Search for a query on two fields."
   ]
  },
  {
   "cell_type": "code",
   "execution_count": 79,
   "metadata": {},
   "outputs": [
    {
     "name": "stdout",
     "output_type": "stream",
     "text": [
      "#Hits 7\n",
      "35. François Fillon, French Presidential Candidate, Vows to Run Despite Inquiry --by-- ['Adam Nossiter']\n",
      "14. Marine Le Pen Leads Far-Right Fight to Make France ‘More French’ --by-- ['Adam Nossiter']\n",
      "106. An Unlikely Contender Rises in France as the Antithesis of Trump --by-- ['Adam Nossiter']\n",
      "29. Marine Le Pen May Get a Lift From an Unlikely Source: The Far Left --by-- ['Adam Nossiter']\n",
      "66. Le Pen Calls Parties in France ‘Completely Rotten’ as They Unite to Fend Her Off --by-- ['Aurelien Breeden', 'Adam Nossiter']\n",
      "133. Emmanuel Macron, French Economy Minister, Hints at Presidential Run --by-- ['Adam Nossiter']\n",
      "152. Emmanuel Macron, Eyeing French Presidency, Resigns as Economy Minister --by-- ['Adam Nossiter']\n"
     ]
    }
   ],
   "source": [
    "s = Search(using = es, index = \"scrapped\") \\\n",
    "    .query(\"match\", body = \"supporters\") \\\n",
    "    .query(\"match\", authors = \"Adam Nossiter\")\n",
    "response = s.execute()\n",
    "\n",
    "print(\"#Hits\", len(response))\n",
    "for hit in response:\n",
    "    print(hit.meta.id + \".\", hit.title, \"--by--\" , hit.authors)"
   ]
  }
 ],
 "metadata": {
  "kernelspec": {
   "display_name": "Python 3",
   "language": "python",
   "name": "python3"
  },
  "language_info": {
   "codemirror_mode": {
    "name": "ipython",
    "version": 3
   },
   "file_extension": ".py",
   "mimetype": "text/x-python",
   "name": "python",
   "nbconvert_exporter": "python",
   "pygments_lexer": "ipython3",
   "version": "3.6.3"
  }
 },
 "nbformat": 4,
 "nbformat_minor": 2
}
